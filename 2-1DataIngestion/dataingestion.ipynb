{
 "cells": [
  {
   "cell_type": "code",
   "execution_count": null,
   "id": "b3499b7a",
   "metadata": {},
   "outputs": [],
   "source": [
    "## Data INgestion or Dataloader\n"
   ]
  }
 ],
 "metadata": {
  "language_info": {
   "name": "python"
  }
 },
 "nbformat": 4,
 "nbformat_minor": 5
}
