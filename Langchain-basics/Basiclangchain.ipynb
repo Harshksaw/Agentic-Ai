{
 "cells": [
  {
   "cell_type": "code",
   "execution_count": 2,
   "id": "b049734e",
   "metadata": {},
   "outputs": [
    {
     "data": {
      "text/plain": [
       "True"
      ]
     },
     "execution_count": 2,
     "metadata": {},
     "output_type": "execute_result"
    }
   ],
   "source": [
    "import os\n",
    "from dotenv import load_dotenv\n",
    "load_dotenv()\n"
   ]
  },
  {
   "cell_type": "code",
   "execution_count": 3,
   "id": "60c6fb70",
   "metadata": {},
   "outputs": [
    {
     "data": {
      "text/plain": [
       "'Agentic2.0'"
      ]
     },
     "execution_count": 3,
     "metadata": {},
     "output_type": "execute_result"
    }
   ],
   "source": [
    "os.environ.get(\"OPENAI_API_API\")  # Ensure this is the correct key name\n",
    "os.environ.get(\"GROQ_API_KEY\")  # Ensure this is the correct key name   \n",
    "os.environ.get(\"LANGCHAIN_API_KEY\")  # Ensure this is the correct key name\n",
    "os.environ.get(\"LANGCHAIN_PROJECT\")  # Ensure this is the correct key name"
   ]
  },
  {
   "cell_type": "code",
   "execution_count": 8,
   "id": "0c438593",
   "metadata": {},
   "outputs": [],
   "source": [
    "os.environ[\"OPENAI_API_KEY\"] = os.environ.get(\"OPENAI_API_API\")  # Set the correct environment variable for OpenAI API\n",
    "os.environ[\"GROQ_API_KEY\"] = os.environ.get(\"GROQ_API_KEY\")  # Set the correct environment variable for GROQ API\n",
    "os.environ[\"LANGCHAIN_API_KEY\"] = os.environ.get(\"LANGCHAIN_API_KEY\")  # Set the correct environment variable for Langchain API\n",
    "os.environ[\"LANGCHAIN_PROJECT\"] = os.environ.get(\"LANGCHAIN_PROJECT\")\n",
    "os.environ[\"LANGCHAIN_TRACING_V2\"] = \"true\""
   ]
  },
  {
   "cell_type": "code",
   "execution_count": null,
   "id": "7c07afc4",
   "metadata": {},
   "outputs": [],
   "source": [
    "from langchain_openai import ChatOpenAI\n",
    "\n",
    "\n",
    "llm = ChatOpenAI(\n",
    "    model=\"o1-mini\",\n",
    "    \n",
    ")\n",
    "\n",
    "result = llm.invoke(\"What is the capital of France?\")\n",
    "print(result)"
   ]
  },
  {
   "cell_type": "code",
   "execution_count": 2,
   "id": "26d2c4d0",
   "metadata": {},
   "outputs": [
    {
     "data": {
      "text/plain": [
       "AIMessage(content='I cannot give you an exact average salary for \"Gen AI Dev\" in Canada. \\n\\nHere\\'s why:\\n\\n* **New and Evolving Field:** Generative AI development is a very new and rapidly evolving field.  Salaries are still being established and can vary greatly depending on experience, location, company size, and specific skills.\\n* **Lack of Specific Job Title Data:** \"Gen AI Dev\" isn\\'t a standard job title used across all companies. You might find roles with titles like:\\n    * AI Engineer\\n    * Machine Learning Engineer\\n    * Data Scientist\\n    * Research Scientist\\n    * Software Engineer (with specialization in AI)\\n* **Data Privacy:** Salary information is often considered confidential. Publicly available datasets may not provide specific salary breakdowns for such niche roles.\\n\\n**How to Find Salary Information:**\\n\\n1. **Job Boards:** Look at job postings on sites like Indeed, LinkedIn, Glassdoor, and Monster. Filter by relevant keywords (AI, machine learning, deep learning, natural language processing) and location (Canada). Pay attention to the salary ranges listed.\\n2. **Salary Surveys:** Some organizations conduct salary surveys specific to the tech industry. Look for reports from groups like the Canadian Information Processing Society (CIPS) or professional associations related to AI.\\n3. **Networking:** Connect with people working in the field of generative AI in Canada through online communities, events, or professional organizations. They may be able to give you insights into salary expectations.\\n\\n\\nRemember that salary is just one factor to consider when evaluating a job opportunity. Other important factors include company culture, work-life balance, benefits, and career growth potential.\\n\\n', additional_kwargs={}, response_metadata={'token_usage': {'completion_tokens': 346, 'prompt_tokens': 16, 'total_tokens': 362, 'completion_time': 0.629090909, 'prompt_time': 0.001273241, 'queue_time': 0.023420865, 'total_time': 0.63036415}, 'model_name': 'gemma2-9b-it', 'system_fingerprint': 'fp_10c08bf97d', 'service_tier': 'on_demand', 'finish_reason': 'stop', 'logprobs': None}, id='run--1be8eb04-ed93-4897-87d3-c5e094693f92-0', usage_metadata={'input_tokens': 16, 'output_tokens': 346, 'total_tokens': 362})"
      ]
     },
     "execution_count": 2,
     "metadata": {},
     "output_type": "execute_result"
    }
   ],
   "source": [
    "from langchain_groq import ChatGroq\n",
    "\n",
    "model = ChatGroq(\n",
    "    model=\"gemma2-9b-it\")\n",
    "\n",
    "model.invoke(\"Avg Gen ai Dev salary in Canada\")\n",
    "\n"
   ]
  },
  {
   "cell_type": "code",
   "execution_count": null,
   "id": "c8164429",
   "metadata": {},
   "outputs": [],
   "source": [
    "from langchain_core.prompts import ChatPromptTemplate\n",
    "\n",
    "prompt = ChatPromptTemplate.from_messages(\n",
    "    [\n",
    "        (\"system\", \"You are a helpful assistant.\"),\n",
    "        (\"human\", \"{input}\"),\n",
    "    ]\n",
    ")"
   ]
  }
 ],
 "metadata": {
  "kernelspec": {
   "display_name": "base",
   "language": "python",
   "name": "python3"
  },
  "language_info": {
   "codemirror_mode": {
    "name": "ipython",
    "version": 3
   },
   "file_extension": ".py",
   "mimetype": "text/x-python",
   "name": "python",
   "nbconvert_exporter": "python",
   "pygments_lexer": "ipython3",
   "version": "3.13.5"
  }
 },
 "nbformat": 4,
 "nbformat_minor": 5
}
