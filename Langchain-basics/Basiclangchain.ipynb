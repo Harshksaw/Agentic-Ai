{
 "cells": [
  {
   "cell_type": "code",
   "execution_count": 6,
   "id": "b049734e",
   "metadata": {},
   "outputs": [
    {
     "data": {
      "text/plain": [
       "True"
      ]
     },
     "execution_count": 6,
     "metadata": {},
     "output_type": "execute_result"
    }
   ],
   "source": [
    "import os\n",
    "from dotenv import load_dotenv\n",
    "load_dotenv()\n"
   ]
  },
  {
   "cell_type": "code",
   "execution_count": 7,
   "id": "60c6fb70",
   "metadata": {},
   "outputs": [
    {
     "data": {
      "text/plain": [
       "'Agentic2.0'"
      ]
     },
     "execution_count": 7,
     "metadata": {},
     "output_type": "execute_result"
    }
   ],
   "source": [
    "os.environ.get(\"OPENAI_API_API\")  # Ensure this is the correct key name\n",
    "os.environ.get(\"GROQ_API_KEY\")  # Ensure this is the correct key name   \n",
    "os.environ.get(\"LANGCHAIN_API_KEY\")  # Ensure this is the correct key name\n",
    "os.environ.get(\"LANGCHAIN_PROJECT\")  # Ensure this is the correct key name"
   ]
  },
  {
   "cell_type": "code",
   "execution_count": 8,
   "id": "0c438593",
   "metadata": {},
   "outputs": [],
   "source": [
    "os.environ[\"OPENAI_API_KEY\"] = os.environ.get(\"OPENAI_API_API\")  # Set the correct environment variable for OpenAI API\n",
    "os.environ[\"GROQ_API_KEY\"] = os.environ.get(\"GROQ_API_KEY\")  # Set the correct environment variable for GROQ API\n",
    "os.environ[\"LANGCHAIN_API_KEY\"] = os.environ.get(\"LANGCHAIN_API_KEY\")  # Set the correct environment variable for Langchain API\n",
    "os.environ[\"LANGCHAIN_PROJECT\"] = os.environ.get(\"LANGCHAIN_PROJECT\")\n",
    "os.environ[\"LANGCHAIN_TRACING_V2\"] = \"true\""
   ]
  },
  {
   "cell_type": "code",
   "execution_count": null,
   "id": "7c07afc4",
   "metadata": {},
   "outputs": [],
   "source": [
    "from langchain_openai import ChatOpenAI\n",
    "\n",
    "\n",
    "llm = ChatOpenAI(\n",
    "    model=\"o1-mini\",\n",
    "    \n",
    ")\n",
    "\n",
    "result = llm.invoke(\"What is the capital of France?\")\n",
    "print(result)"
   ]
  },
  {
   "cell_type": "code",
   "execution_count": 4,
   "id": "26d2c4d0",
   "metadata": {},
   "outputs": [
    {
     "ename": "ModuleNotFoundError",
     "evalue": "No module named 'lanchain_groq'",
     "output_type": "error",
     "traceback": [
      "\u001b[31m---------------------------------------------------------------------------\u001b[39m",
      "\u001b[31mModuleNotFoundError\u001b[39m                       Traceback (most recent call last)",
      "\u001b[36mCell\u001b[39m\u001b[36m \u001b[39m\u001b[32mIn[4]\u001b[39m\u001b[32m, line 3\u001b[39m\n\u001b[32m      1\u001b[39m \u001b[38;5;66;03m##GROQ\u001b[39;00m\n\u001b[32m----> \u001b[39m\u001b[32m3\u001b[39m \u001b[38;5;28;01mfrom\u001b[39;00m\u001b[38;5;250m \u001b[39m\u001b[34;01mlanchain_groq\u001b[39;00m\u001b[38;5;250m \u001b[39m\u001b[38;5;28;01mimport\u001b[39;00m ChatGroq\n\u001b[32m      5\u001b[39m model = ChatGroq(\n\u001b[32m      6\u001b[39m     model=\u001b[33m\"\u001b[39m\u001b[33mquen-qwq-32b\u001b[39m\u001b[33m\"\u001b[39m)\n\u001b[32m      8\u001b[39m model.invoke(\u001b[33m\"\u001b[39m\u001b[33mAvg Gen ai Dev salary in Canada\u001b[39m\u001b[33m\"\u001b[39m)\n",
      "\u001b[31mModuleNotFoundError\u001b[39m: No module named 'lanchain_groq'"
     ]
    }
   ],
   "source": [
    "##GROQ\n",
    "\n",
    "from lanchain_groq import ChatGroq\n",
    "\n",
    "model = ChatGroq(\n",
    "    model=\"quen-qwq-32b\")\n",
    "\n",
    "model.invoke(\"Avg Gen ai Dev salary in Canada\")\n",
    "\n"
   ]
  },
  {
   "cell_type": "code",
   "execution_count": null,
   "id": "c8164429",
   "metadata": {},
   "outputs": [],
   "source": []
  }
 ],
 "metadata": {
  "kernelspec": {
   "display_name": "Python 3",
   "language": "python",
   "name": "python3"
  },
  "language_info": {
   "codemirror_mode": {
    "name": "ipython",
    "version": 3
   },
   "file_extension": ".py",
   "mimetype": "text/x-python",
   "name": "python",
   "nbconvert_exporter": "python",
   "pygments_lexer": "ipython3",
   "version": "3.13.0"
  }
 },
 "nbformat": 4,
 "nbformat_minor": 5
}
